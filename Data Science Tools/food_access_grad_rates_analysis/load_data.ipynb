{
 "cells": [
  {
   "cell_type": "code",
   "execution_count": 2,
   "metadata": {},
   "outputs": [],
   "source": [
    "from urllib.request import urlopen\n",
    "from json import loads\n",
    "import pandas as pd\n",
    "import pickle\n",
    "import numpy as np"
   ]
  },
  {
   "cell_type": "markdown",
   "metadata": {},
   "source": [
    "This file is designed to load all of the data and save the resulting DataFrames into pickle files. Because data is historical, it should not change so the pickle files can be used instead of running this code again.\n",
    "\n",
    "A note on data:\n",
    "\n",
    "Originally I tried to collect all of the data from Urban Education, however I ran into issues where 2019 graduation rates were missing a significant number of schools (for instance there were no schools listed in Seattle) and 2018 had all the schools but was missing graduation rates for a significant portion. I initally attempted to create a merged file using 2019 rates when available and 2018 rates when they were not, but multiple schools had redistricting between 2018 and 2019 which meant their NCESSCH numbers changed and I was unable to do proper matching. Ultimately I went to the source for the Urban Education data (EDFacts) to download the original dataset for graduation rates instead. "
   ]
  },
  {
   "cell_type": "code",
   "execution_count": 3,
   "metadata": {},
   "outputs": [],
   "source": [
    "# Load graduation rate data\n",
    "\n",
    "# Source: https://www2.ed.gov/about/inits/ed/edfacts/data-files/index.html\n",
    "\n",
    "url = 'https://www2.ed.gov/about/inits/ed/edfacts/data-files/acgr-sch-sy2018-19-long.csv'\n",
    "grad_df = pd.read_csv(url)"
   ]
  },
  {
   "cell_type": "code",
   "execution_count": 4,
   "metadata": {},
   "outputs": [
    {
     "name": "stdout",
     "output_type": "stream",
     "text": [
      "20000\n",
      "30000\n",
      "40000\n",
      "50000\n",
      "60000\n",
      "70000\n",
      "80000\n",
      "90000\n",
      "100000\n",
      "101688\n"
     ]
    }
   ],
   "source": [
    "# Load school status data\n",
    "\n",
    "# Source: https://educationdata.urban.org/documentation/schools.html#ccd_directory\n",
    "\n",
    "url = \"https://educationdata.urban.org/api/v1/schools/ccd/directory/2019/\"\n",
    "response = urlopen(url)\n",
    "status_data = loads(response.read())\n",
    "\n",
    "status_df = pd.DataFrame.from_dict(status_data['results'])\n",
    "\n",
    "# Loop through the school demographic data\n",
    "next_link = status_data['next']\n",
    "\n",
    "while next_link != None:\n",
    "    response = urlopen(next_link)\n",
    "    status_data = loads(response.read())\n",
    "    temp_df = pd.DataFrame.from_dict(status_data['results'])\n",
    "    status_df = pd.concat([status_df, temp_df])\n",
    "    next_link = status_data['next']\n",
    "    # Print the length at the end of the loop to ensure code is running properly\n",
    "    print(len(status_df))"
   ]
  },
  {
   "cell_type": "code",
   "execution_count": 5,
   "metadata": {},
   "outputs": [
    {
     "data": {
      "text/plain": [
       "True"
      ]
     },
     "execution_count": 5,
     "metadata": {},
     "output_type": "execute_result"
    }
   ],
   "source": [
    "# Confirm that all observations loaded\n",
    "status_data['count'] == len(status_df)"
   ]
  },
  {
   "cell_type": "code",
   "execution_count": 6,
   "metadata": {},
   "outputs": [
    {
     "name": "stdout",
     "output_type": "stream",
     "text": [
      "20000\n",
      "30000\n",
      "40000\n",
      "50000\n",
      "60000\n",
      "70000\n",
      "80000\n",
      "90000\n",
      "100000\n",
      "101688\n"
     ]
    }
   ],
   "source": [
    "# Load census tract data - Urban Education\n",
    "\n",
    "# Source: https://educationdata.urban.org/documentation/schools.html#nhgis-geographic-variables-2010-census-geographies\n",
    "\n",
    "url = \"https://educationdata.urban.org/api/v1/schools/nhgis/census-2010/2019/\"\n",
    "response = urlopen(url)\n",
    "census_data = loads(response.read())\n",
    "\n",
    "census_df = pd.DataFrame.from_dict(census_data['results'])\n",
    "\n",
    "# Loop through the census data\n",
    "next_link = census_data['next']\n",
    "\n",
    "while next_link != None:\n",
    "    response = urlopen(next_link)\n",
    "    census_data = loads(response.read())\n",
    "    temp_df = pd.DataFrame.from_dict(census_data['results'])\n",
    "    census_df = pd.concat([census_df, temp_df])\n",
    "    next_link = census_data['next']\n",
    "    print(len(census_df))"
   ]
  },
  {
   "cell_type": "code",
   "execution_count": 7,
   "metadata": {},
   "outputs": [
    {
     "data": {
      "text/plain": [
       "True"
      ]
     },
     "execution_count": 7,
     "metadata": {},
     "output_type": "execute_result"
    }
   ],
   "source": [
    "# Confirm that all observations loaded\n",
    "census_data['count'] == len(census_df)"
   ]
  },
  {
   "cell_type": "code",
   "execution_count": 8,
   "metadata": {},
   "outputs": [],
   "source": [
    "# Load food access data\n",
    "food_df = pd.read_csv('food_access_2019.csv')"
   ]
  },
  {
   "cell_type": "code",
   "execution_count": 9,
   "metadata": {},
   "outputs": [],
   "source": [
    "# Save all files to pickle files\n",
    "\n",
    "census_df.to_pickle(open('census_df.pkl', 'wb'))\n",
    "status_df.to_pickle(open('status_df.pkl', 'wb'))\n",
    "grad_df.to_pickle(open('grad_df.pkl', 'wb'))\n",
    "food_df.to_pickle(open('food_df.pkl', 'wb'))"
   ]
  }
 ],
 "metadata": {
  "kernelspec": {
   "display_name": "Python 3 (ipykernel)",
   "language": "python",
   "name": "python3"
  },
  "language_info": {
   "codemirror_mode": {
    "name": "ipython",
    "version": 3
   },
   "file_extension": ".py",
   "mimetype": "text/x-python",
   "name": "python",
   "nbconvert_exporter": "python",
   "pygments_lexer": "ipython3",
   "version": "3.11.4"
  }
 },
 "nbformat": 4,
 "nbformat_minor": 2
}
